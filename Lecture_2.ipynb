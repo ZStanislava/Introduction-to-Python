{
 "cells": [
  {
   "cell_type": "markdown",
   "id": "6721331f",
   "metadata": {},
   "source": [
    "# Занятие 2. Условные конструкции и циклы"
   ]
  },
  {
   "cell_type": "code",
   "execution_count": 1,
   "id": "86aec531",
   "metadata": {},
   "outputs": [],
   "source": [
    "accuracy = 0.75"
   ]
  },
  {
   "cell_type": "code",
   "execution_count": 2,
   "id": "9d0dacdd",
   "metadata": {},
   "outputs": [
    {
     "name": "stdout",
     "output_type": "stream",
     "text": [
      "True\n",
      "False\n"
     ]
    }
   ],
   "source": [
    "print(accuracy > 0.5)\n",
    "print(accuracy > 0.9)"
   ]
  },
  {
   "cell_type": "markdown",
   "id": "86834bb8",
   "metadata": {},
   "source": [
    "## Условные конструкции\n",
    "\n",
    "Конструкция с неполным ветвлением:\n",
    "```python\n",
    "if условие: \n",
    "    Код, который выполняется, если условие верно\n",
    "```"
   ]
  },
  {
   "cell_type": "code",
   "execution_count": 3,
   "id": "a7d1b594",
   "metadata": {},
   "outputs": [
    {
     "name": "stdout",
     "output_type": "stream",
     "text": [
      "Да, все верно\n"
     ]
    }
   ],
   "source": [
    "if accuracy > 0.5: \n",
    "    print('Да, все верно')"
   ]
  },
  {
   "cell_type": "markdown",
   "id": "e6478bb6",
   "metadata": {},
   "source": [
    "## Отступы в Python"
   ]
  },
  {
   "cell_type": "markdown",
   "id": "ce93cfb5",
   "metadata": {},
   "source": [
    "* весь синтаксис построен на работе с блоками\n",
    "* блоки выделяются отступами \n",
    "* отступы однородны внутри блока"
   ]
  },
  {
   "cell_type": "markdown",
   "id": "90818932",
   "metadata": {},
   "source": [
    "```python\n",
    "это команда\n",
    "это другая команда\n",
    "    это первая команда блока\n",
    "    это вторая команда блока\n",
    "    это третья команда блока\n",
    "эта команда уже не в блоке\n",
    "```"
   ]
  },
  {
   "cell_type": "markdown",
   "id": "90e69639",
   "metadata": {},
   "source": [
    "\"Классическая\" конструкция с else:\n",
    "```python\n",
    "if какое-то условие: \n",
    "    Код, который выполняется, если условие верно\n",
    "else:\n",
    "    Код, который выполняется, если условие ложно\n",
    "```"
   ]
  },
  {
   "cell_type": "code",
   "execution_count": 4,
   "id": "d07e5c69",
   "metadata": {},
   "outputs": [
    {
     "name": "stdout",
     "output_type": "stream",
     "text": [
      "R^2 меньше или равно 0.9\n"
     ]
    }
   ],
   "source": [
    "r2 = 0.8\n",
    "if r2 > 0.9:\n",
    "    print('Да, все верно')\n",
    "else:\n",
    "    print('R^2 меньше или равно 0.9')"
   ]
  },
  {
   "cell_type": "code",
   "execution_count": 5,
   "id": "bf8d497a",
   "metadata": {},
   "outputs": [
    {
     "name": "stdout",
     "output_type": "stream",
     "text": [
      "R^2 меньше или равно 0.9\n"
     ]
    }
   ],
   "source": [
    "print('Да, все верно') if r2 > 0.9 else print('R^2 меньше или равно 0.9')"
   ]
  },
  {
   "cell_type": "code",
   "execution_count": 6,
   "id": "21fc716c",
   "metadata": {
    "scrolled": true
   },
   "outputs": [
    {
     "ename": "SyntaxError",
     "evalue": "expected 'else' after 'if' expression (744143134.py, line 2)",
     "output_type": "error",
     "traceback": [
      "\u001b[1;36m  Cell \u001b[1;32mIn[6], line 2\u001b[1;36m\u001b[0m\n\u001b[1;33m    print('Да, все верно') if r2 > 0.9\u001b[0m\n\u001b[1;37m    ^\u001b[0m\n\u001b[1;31mSyntaxError\u001b[0m\u001b[1;31m:\u001b[0m expected 'else' after 'if' expression\n"
     ]
    }
   ],
   "source": [
    "# Ошибка синтаксиса\n",
    "print('Да, все верно') if r2 > 0.9"
   ]
  },
  {
   "cell_type": "code",
   "execution_count": null,
   "id": "914121b5",
   "metadata": {},
   "outputs": [
    {
     "name": "stdout",
     "output_type": "stream",
     "text": [
      "R^2 в диапазоне (0.5, 0.9)\n"
     ]
    }
   ],
   "source": [
    "if 0.5 < r2 < 0.9:\n",
    "    print('R^2 в диапазоне (0.5, 0.9)')\n",
    "else:\n",
    "    print('Иначе')"
   ]
  },
  {
   "cell_type": "markdown",
   "id": "7af28ae3",
   "metadata": {},
   "source": [
    "Если необходимо больше, чем 2 варианта действий, то необходимо воспользоваться следующей конструкцией:\n",
    "```python\n",
    "if какое-то условие:\n",
    "    Код, который выполняется, если условие верно\n",
    "elif еще одно условие:\n",
    "    Код, который выполняется, если это условие верно, а предыдущее — нет\n",
    "    ...\n",
    "else:\n",
    "    Код, который выполняется, если все условия ложны\n",
    "```"
   ]
  },
  {
   "cell_type": "code",
   "execution_count": null,
   "id": "faabd26c",
   "metadata": {},
   "outputs": [
    {
     "name": "stdout",
     "output_type": "stream",
     "text": [
      "Подписок Васи не нашли\n"
     ]
    }
   ],
   "source": [
    "user = 'vasya96'\n",
    "\n",
    "actress_page = {'ne_tvoya', 'nogotochki', 'igor_kot'}\n",
    "surfing = {'healthy_guy', 'cheap_tan'}\n",
    "\n",
    "if user in actress_page:\n",
    "    print('Вася подписан на актрису')\n",
    "elif user in surfing:\n",
    "    print('Вася интересуется серфингом')\n",
    "else:\n",
    "    print('Подписок Васи не нашли')"
   ]
  },
  {
   "cell_type": "markdown",
   "id": "a4946fa3",
   "metadata": {},
   "source": [
    "Ключевое слово `pass` необходимо использовать, если по каким-то причинам нужно, чтобы при выполнении условия ничего не происходило.\n",
    "Это связано с тем, что данная конструкция не может быть пустой:\n",
    "\n",
    "```python\n",
    "if expressions: \n",
    "   code\n",
    "``` \n"
   ]
  },
  {
   "cell_type": "code",
   "execution_count": null,
   "id": "cb3444fc",
   "metadata": {},
   "outputs": [],
   "source": [
    "cars = {'igor_kot', 'vasya96', '50cent'}\n",
    "\n",
    "if user in actress_page:\n",
    "    print('Вася подписан на актрису')\n",
    "elif user in cars:\n",
    "    pass"
   ]
  },
  {
   "cell_type": "markdown",
   "id": "46bab858",
   "metadata": {},
   "source": [
    "## Циклы"
   ]
  },
  {
   "cell_type": "markdown",
   "id": "6d7d1f4b",
   "metadata": {},
   "source": [
    "В Python есть два вида циклов:"
   ]
  },
  {
   "cell_type": "markdown",
   "id": "6139b1f9",
   "metadata": {},
   "source": [
    "### while"
   ]
  },
  {
   "cell_type": "markdown",
   "id": "86c2ccbd",
   "metadata": {},
   "source": [
    "`while` — выполняет заданные действия до тех пор, пока `условие` является истинным.\n",
    "    \n",
    "    \n",
    "```python\n",
    "while условие:\n",
    "\tвыполняется пока «условие» верно \n",
    "```"
   ]
  },
  {
   "cell_type": "code",
   "execution_count": null,
   "id": "3da46a0d",
   "metadata": {},
   "outputs": [
    {
     "name": "stdout",
     "output_type": "stream",
     "text": [
      "1 ['new task']\n",
      "2 ['new task', 'new task']\n",
      "3 ['new task', 'new task', 'new task']\n"
     ]
    }
   ],
   "source": [
    "tasks = []\n",
    "while len(tasks) < 3:\n",
    "    tasks.append('new task')\n",
    "    print(len(tasks), tasks)"
   ]
  },
  {
   "cell_type": "markdown",
   "id": "04e7ad3f",
   "metadata": {},
   "source": [
    "### for"
   ]
  },
  {
   "cell_type": "markdown",
   "id": "372727cf",
   "metadata": {},
   "source": [
    "`for` — выполняет заданные действия для каждого элемента итерируемой переменной.\n",
    "\n",
    "```python\n",
    "for переменная in «последовательность»:\n",
    "\tвыполняется столько раз, сколько элементов в последовательности\n",
    "\n",
    "```"
   ]
  },
  {
   "cell_type": "code",
   "execution_count": null,
   "id": "040f7d53",
   "metadata": {},
   "outputs": [],
   "source": [
    "upper_letters = []\n",
    "for letter in 'word':\n",
    "    upper_letters.append(letter.upper())"
   ]
  },
  {
   "cell_type": "code",
   "execution_count": null,
   "id": "1023f67f",
   "metadata": {},
   "outputs": [
    {
     "data": {
      "text/plain": [
       "['W', 'O', 'R', 'D']"
      ]
     },
     "execution_count": 13,
     "metadata": {},
     "output_type": "execute_result"
    }
   ],
   "source": [
    "upper_letters"
   ]
  },
  {
   "cell_type": "code",
   "execution_count": null,
   "id": "a1696464",
   "metadata": {},
   "outputs": [
    {
     "data": {
      "text/plain": [
       "'WORD'"
      ]
     },
     "execution_count": 14,
     "metadata": {},
     "output_type": "execute_result"
    }
   ],
   "source": [
    "''.join(upper_letters)"
   ]
  },
  {
   "cell_type": "code",
   "execution_count": 7,
   "id": "e3c74356",
   "metadata": {},
   "outputs": [
    {
     "name": "stdout",
     "output_type": "stream",
     "text": [
      "W\n",
      "O\n",
      "R\n",
      "D\n"
     ]
    }
   ],
   "source": [
    " for letter in 'word':\n",
    "     print(letter.upper())"
   ]
  },
  {
   "cell_type": "code",
   "execution_count": 8,
   "id": "cc6564a3",
   "metadata": {},
   "outputs": [
    {
     "name": "stdout",
     "output_type": "stream",
     "text": [
      "0\n",
      "2\n",
      "10\n"
     ]
    }
   ],
   "source": [
    " for element in (0, 2, 10):\n",
    "     print(element)"
   ]
  },
  {
   "cell_type": "code",
   "execution_count": 9,
   "id": "64f2719b",
   "metadata": {},
   "outputs": [
    {
     "name": "stdout",
     "output_type": "stream",
     "text": [
      "0\n",
      "1\n",
      "2\n",
      "3\n",
      "4\n",
      "5\n",
      "6\n",
      "7\n",
      "8\n",
      "9\n"
     ]
    }
   ],
   "source": [
    " for element in range(10):\n",
    "     print(element)"
   ]
  },
  {
   "cell_type": "code",
   "execution_count": 10,
   "id": "84fbf4bb",
   "metadata": {},
   "outputs": [
    {
     "name": "stdout",
     "output_type": "stream",
     "text": [
      "0\n",
      "1\n"
     ]
    }
   ],
   "source": [
    " for key in {0: 'user0', 1: 'user1'}:\n",
    "     print(key)"
   ]
  },
  {
   "cell_type": "markdown",
   "id": "6d553b87",
   "metadata": {},
   "source": [
    "## Управление циклами"
   ]
  },
  {
   "cell_type": "markdown",
   "id": "cc9445ec",
   "metadata": {},
   "source": [
    "* `break` — прерывает выполнение цикла, в котором написан\n",
    "* `continue` — завершает текущую итерацию и переводит цикл на следующую"
   ]
  },
  {
   "cell_type": "code",
   "execution_count": null,
   "id": "4e0d1c08",
   "metadata": {},
   "outputs": [
    {
     "name": "stdout",
     "output_type": "stream",
     "text": [
      "Он\n",
      "шел\n",
      "по\n",
      "дороге\n"
     ]
    }
   ],
   "source": [
    "sentence = 'Он шел по дороге и смотрел по сторонам'\n",
    "for word in sentence.split():\n",
    "    if word == 'и':\n",
    "        break\n",
    "    print(word)"
   ]
  },
  {
   "cell_type": "code",
   "execution_count": null,
   "id": "ce779991",
   "metadata": {},
   "outputs": [
    {
     "name": "stdout",
     "output_type": "stream",
     "text": [
      "1\n",
      "2\n",
      "3\n",
      "4\n",
      "5\n",
      "6\n",
      "7\n",
      "8\n",
      "9\n"
     ]
    }
   ],
   "source": [
    "for index in range(10):\n",
    "    if index == 0:\n",
    "        continue\n",
    "    print(index)"
   ]
  },
  {
   "cell_type": "code",
   "execution_count": null,
   "id": "aaa21a70",
   "metadata": {},
   "outputs": [
    {
     "name": "stdout",
     "output_type": "stream",
     "text": [
      "прогноз\n",
      "прогноз\n",
      "прогноз\n",
      "прогноз\n",
      "отмена\n"
     ]
    }
   ],
   "source": [
    "while True:\n",
    "    user_input = input()\n",
    "    if user_input == 'отмена':\n",
    "        break\n",
    "    print('прогноз')"
   ]
  },
  {
   "cell_type": "markdown",
   "id": "12e13251",
   "metadata": {},
   "source": [
    "## Полезные функции для циклов"
   ]
  },
  {
   "cell_type": "markdown",
   "id": "a3bafa4d",
   "metadata": {},
   "source": [
    "1. `enumerate(structure)` — на каждой итерации генерит пару (индекс, элемент последовательности), возможность опустить обращение к элементам по индексу\n",
    "2. `zip(structure_1, structure_2,...)` — позволяет итерировать сразу по нескольким структурам. Важно, чтобы они были одного размера"
   ]
  },
  {
   "cell_type": "code",
   "execution_count": null,
   "id": "d5afd75d",
   "metadata": {},
   "outputs": [
    {
     "name": "stdout",
     "output_type": "stream",
     "text": [
      "0: S\n",
      "1: t\n",
      "2: r\n",
      "3: i\n",
      "4: n\n",
      "5: g\n"
     ]
    }
   ],
   "source": [
    "for index, char in enumerate('String'):\n",
    "    print(f'{index}: {char}')"
   ]
  },
  {
   "cell_type": "code",
   "execution_count": null,
   "id": "47c626d3",
   "metadata": {},
   "outputs": [
    {
     "name": "stdout",
     "output_type": "stream",
     "text": [
      "user1 33 102\n",
      "user2 29 62\n",
      "user3 32 93\n"
     ]
    }
   ],
   "source": [
    "users = ['user1', 'user2', 'user3']\n",
    "ages = [33, 29, 32]\n",
    "weights = (102, 62, 93)\n",
    "for user, age, weight in zip(users, ages, weights):\n",
    "    print(user, age, weight)"
   ]
  },
  {
   "cell_type": "markdown",
   "id": "68eccd0d",
   "metadata": {},
   "source": [
    "## Comprehensions\n",
    "\n",
    "Способ позволяющий получить список/словарь/сет на основе другого словаря/сета/списка в более короткой записи\n",
    "\n",
    "```python\n",
    "newlist = [expression for item in iterable_value if condition == True] — List comprehension\n",
    "newdict = {key_expression: value_expression for item in iterable_value if condition == True} — Dict comprehension\n",
    "newset = {expression for item in iterable_value if condition == True} — Set comprehension\n",
    "```\n",
    "Если `iterable_value словарь`, то в качестве `item` дожна быть пара `ключ, значение`"
   ]
  },
  {
   "cell_type": "code",
   "execution_count": null,
   "id": "1ebe94fb",
   "metadata": {},
   "outputs": [
    {
     "name": "stdout",
     "output_type": "stream",
     "text": [
      "[1, 3, 5, 7, 9]\n"
     ]
    }
   ],
   "source": [
    "digits = range(10)\n",
    "\n",
    "odd_digits = []\n",
    "for digit in digits:\n",
    "    if digit % 2 == 1:\n",
    "        odd_digits.append(digit)\n",
    "        \n",
    "print(odd_digits)"
   ]
  },
  {
   "cell_type": "code",
   "execution_count": null,
   "id": "d018ef12",
   "metadata": {},
   "outputs": [
    {
     "name": "stdout",
     "output_type": "stream",
     "text": [
      "[1, 3, 5, 7, 9]\n"
     ]
    }
   ],
   "source": [
    "odd_digits = [digit for digit in digits if digit % 2 == 1]\n",
    "print(odd_digits)"
   ]
  },
  {
   "cell_type": "markdown",
   "id": "73fdb2bb",
   "metadata": {},
   "source": [
    "`expression` может содержать в себе условия, но не в качестве фильтра, а в качестве способа взимодейсвия с элементом `iterable_value`"
   ]
  },
  {
   "cell_type": "code",
   "execution_count": null,
   "id": "0923e3c9",
   "metadata": {},
   "outputs": [
    {
     "name": "stdout",
     "output_type": "stream",
     "text": [
      "[6, 5, 4, 3, 2, 1, 0, 1, 2]\n"
     ]
    }
   ],
   "source": [
    "num_abs = [digit if digit > 0 else -1 * digit for digit in range(-6, 3)]\n",
    "print(num_abs)"
   ]
  },
  {
   "cell_type": "code",
   "execution_count": null,
   "id": "56baf84c",
   "metadata": {},
   "outputs": [
    {
     "name": "stdout",
     "output_type": "stream",
     "text": [
      "{0, 64, 512, 8, 216}\n"
     ]
    }
   ],
   "source": [
    "pow3 = {digit**3 for digit in range(0, 10, 2)}\n",
    "print(pow3)"
   ]
  },
  {
   "cell_type": "code",
   "execution_count": null,
   "metadata": {},
   "outputs": [],
   "source": []
  }
 ],
 "metadata": {
  "kernelspec": {
   "display_name": "Python 3",
   "language": "python",
   "name": "python3"
  },
  "language_info": {
   "codemirror_mode": {
    "name": "ipython",
    "version": 3
   },
   "file_extension": ".py",
   "mimetype": "text/x-python",
   "name": "python",
   "nbconvert_exporter": "python",
   "pygments_lexer": "ipython3",
   "version": "3.12.0"
  }
 },
 "nbformat": 4,
 "nbformat_minor": 5
}
